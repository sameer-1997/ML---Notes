{
 "cells": [
  {
   "cell_type": "code",
   "execution_count": 1,
   "metadata": {},
   "outputs": [],
   "source": [
    "import numpy as np\n",
    "import pandas as pd"
   ]
  },
  {
   "cell_type": "code",
   "execution_count": 2,
   "metadata": {},
   "outputs": [
    {
     "data": {
      "text/plain": [
       "array([[ 5000,    19],\n",
       "       [10000,    25],\n",
       "       [ 9800,    30]])"
      ]
     },
     "execution_count": 2,
     "metadata": {},
     "output_type": "execute_result"
    }
   ],
   "source": [
    "#Handling Numeric Columns\n",
    "\n",
    "\n",
    "featureArray = np.array([[5000,19],[10000,25],[9800,30]])\n",
    "featureArray"
   ]
  },
  {
   "cell_type": "code",
   "execution_count": 3,
   "metadata": {},
   "outputs": [
    {
     "name": "stderr",
     "output_type": "stream",
     "text": [
      "C:\\ProgramData\\Anaconda3\\lib\\site-packages\\sklearn\\utils\\validation.py:475: DataConversionWarning: Data with input dtype int32 was converted to float64 by MinMaxScaler.\n",
      "  warnings.warn(msg, DataConversionWarning)\n"
     ]
    },
    {
     "data": {
      "text/plain": [
       "array([[0.        , 0.        ],\n",
       "       [1.        , 0.54545455],\n",
       "       [0.96      , 1.        ]])"
      ]
     },
     "execution_count": 3,
     "metadata": {},
     "output_type": "execute_result"
    }
   ],
   "source": [
    "# 1. Rescaling data based on 0,1 scale\n",
    "# Data remains the same. Only the scale of the data is modified\n",
    "# MinMaxPolarization\n",
    "from sklearn.preprocessing import MinMaxScaler\n",
    "scaleData = MinMaxScaler(feature_range=(0,1))\n",
    "scaledFeatures = scaleData.fit_transform(featureArray)\n",
    "scaledFeatures"
   ]
  },
  {
   "cell_type": "code",
   "execution_count": 4,
   "metadata": {},
   "outputs": [
    {
     "name": "stderr",
     "output_type": "stream",
     "text": [
      "C:\\ProgramData\\Anaconda3\\lib\\site-packages\\sklearn\\utils\\validation.py:475: DataConversionWarning: Data with input dtype int32 was converted to float64 by StandardScaler.\n",
      "  warnings.warn(msg, DataConversionWarning)\n"
     ]
    },
    {
     "data": {
      "text/plain": [
       "array([[-1.41333087, -1.26012384],\n",
       "       [ 0.74993067,  0.07412493],\n",
       "       [ 0.66340021,  1.18599891]])"
      ]
     },
     "execution_count": 4,
     "metadata": {},
     "output_type": "execute_result"
    }
   ],
   "source": [
    "#2. Standardization ----> mean = 0 , stddev = 1\n",
    "from sklearn.preprocessing import StandardScaler\n",
    "standardFeatures = StandardScaler()\n",
    "scaledFeatures = standardFeatures.fit_transform(featureArray)\n",
    "scaledFeatures"
   ]
  },
  {
   "cell_type": "code",
   "execution_count": 5,
   "metadata": {},
   "outputs": [
    {
     "name": "stdout",
     "output_type": "stream",
     "text": [
      "[[0.99621439 0.00378561]\n",
      " [0.99750623 0.00249377]\n",
      " [0.99694812 0.00305188]]\n",
      "[[0.99999278 0.00379997]\n",
      " [0.99999688 0.00249999]\n",
      " [0.99999531 0.00306121]]\n"
     ]
    }
   ],
   "source": [
    "#3. Normalization - adjusting values measured on \n",
    "# a. Averaging Scale --- Medical use-cases\n",
    "# b. RangeBound Scale ---- MinMax with a difference of only int values (Image Processing)\n",
    "# c. L1 Normalization\n",
    "# d. L2 Normalization\n",
    "# more than 20 definitions on Normalization (confusing). Change defn based on use-case (Experience !!!)\n",
    "\n",
    "# L1 Normalization (Least Absolute Deviations) (Least Absolute Errors)\n",
    "# Manhattan Distance\n",
    "from sklearn.preprocessing import Normalizer\n",
    "norm1 = Normalizer(norm=\"l1\")\n",
    "scaledFeatures = norm1.fit_transform(featureArray)\n",
    "print(scaledFeatures)\n",
    "# L2 Normalization\n",
    "# Euclidean Distance\n",
    "from sklearn.preprocessing import Normalizer\n",
    "norm1 = Normalizer(norm=\"l2\")\n",
    "scaledFeatures = norm1.fit_transform(featureArray)\n",
    "print(scaledFeatures)"
   ]
  },
  {
   "cell_type": "code",
   "execution_count": 6,
   "metadata": {},
   "outputs": [],
   "source": [
    "import matplotlib.pyplot as plt\n",
    "%matplotlib inline"
   ]
  },
  {
   "cell_type": "code",
   "execution_count": 8,
   "metadata": {},
   "outputs": [
    {
     "data": {
      "text/plain": [
       "<matplotlib.collections.PathCollection at 0x2158b3e3630>"
      ]
     },
     "execution_count": 8,
     "metadata": {},
     "output_type": "execute_result"
    },
    {
     "data": {
      "image/png": "[encoded data removed]",
      "text/plain": [
       "<Figure size 432x288 with 1 Axes>"
      ]
     },
     "metadata": {},
     "output_type": "display_data"
    }
   ],
   "source": [
    "plt.scatter(featureArray[:,0],featureArray[:,1])"
   ]
  },
  {
   "cell_type": "code",
   "execution_count": 13,
   "metadata": {},
   "outputs": [
    {
     "data": {
      "text/plain": [
       "(array([4., 0., 0., 0., 0., 0., 0., 0., 0., 1.]),\n",
       " array([5.000000e+03, 1.000045e+08, 2.000040e+08, 3.000035e+08,\n",
       "        4.000030e+08, 5.000025e+08, 6.000020e+08, 7.000015e+08,\n",
       "        8.000010e+08, 9.000005e+08, 1.000000e+09]),\n",
       " <a list of 10 Patch objects>)"
      ]
     },
     "execution_count": 13,
     "metadata": {},
     "output_type": "execute_result"
    },
    {
     "data": {
      "image/png": "[encoded data removed]",
      "text/plain": [
       "<Figure size 432x288 with 1 Axes>"
      ]
     },
     "metadata": {},
     "output_type": "display_data"
    }
   ],
   "source": [
    "# Yearly salary of the typical indian people (sample)\n",
    "featureArray2 = np.array([[5000,19],[10000,25],[9800,30],[1000000000,50],[6000,19]])\n",
    "featureArray2\n",
    "#Average earning of an Indian citizen based on the above dataset\n",
    "#problem with the data is in my data I have extreme value that is affecting the motto of the use-case\n",
    "#Whatever is that extreme data ----> Outliers\n",
    "#Outliers are those extreme values that affects the generalized view of the dataset\n",
    "#last record is the outlier\n",
    "# How to identify the outlier (Exploratory data analysis using Statistics)\n",
    "#                             (Visual EDA using Graphs)\n",
    "# Simplest approach is ask your DATA SCIENTISTS !!!\n",
    "# Better approach is to go for Visual EDA\n",
    "# Create histogram for each columns\n",
    "# Histogram (Frequency of the unique elements)\n",
    "# Input is only one column\n",
    "plt.hist(featureArray2[:,0])"
   ]
  },
  {
   "cell_type": "code",
   "execution_count": 14,
   "metadata": {},
   "outputs": [
    {
     "data": {
      "text/plain": [
       "(array([2., 1., 0., 1., 0., 0., 0., 0., 0., 1.]),\n",
       " array([19. , 22.1, 25.2, 28.3, 31.4, 34.5, 37.6, 40.7, 43.8, 46.9, 50. ]),\n",
       " <a list of 10 Patch objects>)"
      ]
     },
     "execution_count": 14,
     "metadata": {},
     "output_type": "execute_result"
    },
    {
     "data": {
      "image/png": "[encoded data removed]",
      "text/plain": [
       "<Figure size 432x288 with 1 Axes>"
      ]
     },
     "metadata": {},
     "output_type": "display_data"
    }
   ],
   "source": [
    "plt.hist(featureArray2[:,1])"
   ]
  },
  {
   "cell_type": "code",
   "execution_count": 15,
   "metadata": {},
   "outputs": [
    {
     "data": {
      "text/plain": [
       "array([[-1.20000000e+00, -5.45454545e-01],\n",
       "       [ 5.00000000e-02,  0.00000000e+00],\n",
       "       [ 0.00000000e+00,  4.54545455e-01],\n",
       "       [ 2.49997550e+05,  2.27272727e+00],\n",
       "       [-9.50000000e-01, -5.45454545e-01]])"
      ]
     },
     "execution_count": 15,
     "metadata": {},
     "output_type": "execute_result"
    }
   ],
   "source": [
    "#If your data scientist says, the given data has outliers,\n",
    "# You need to scale your feature using RobustScaler.\n",
    "# RobustScaler - StandardScaler with an extra feature to handle outlier\n",
    "# Is it an effective? ----> Its effective upto 75- 85 %\n",
    "from sklearn.preprocessing import RobustScaler\n",
    "robustS = RobustScaler()\n",
    "scaledFeatures = robustS.fit_transform(featureArray2)\n",
    "scaledFeatures"
   ]
  },
  {
   "cell_type": "code",
   "execution_count": 17,
   "metadata": {},
   "outputs": [
    {
     "data": {
      "text/plain": [
       "(array([2., 1., 0., 1., 0., 0., 0., 0., 0., 1.]),\n",
       " array([-0.54545455, -0.26363636,  0.01818182,  0.3       ,  0.58181818,\n",
       "         0.86363636,  1.14545455,  1.42727273,  1.70909091,  1.99090909,\n",
       "         2.27272727]),\n",
       " <a list of 10 Patch objects>)"
      ]
     },
     "execution_count": 17,
     "metadata": {},
     "output_type": "execute_result"
    },
    {
     "data": {
      "image/png": "[encoded data removed]",
      "text/plain": [
       "<Figure size 432x288 with 1 Axes>"
      ]
     },
     "metadata": {},
     "output_type": "display_data"
    }
   ],
   "source": [
    "plt.hist(scaledFeatures[:,1])"
   ]
  },
  {
   "cell_type": "code",
   "execution_count": null,
   "metadata": {},
   "outputs": [],
   "source": []
  }
 ],
 "metadata": {
  "kernelspec": {
   "display_name": "Python 3",
   "language": "python",
   "name": "python3"
  },
  "language_info": {
   "codemirror_mode": {
    "name": "ipython",
    "version": 3
   },
   "file_extension": ".py",
   "mimetype": "text/x-python",
   "name": "python",
   "nbconvert_exporter": "python",
   "pygments_lexer": "ipython3",
   "version": "3.6.4"
  }
 },
 "nbformat": 4,
 "nbformat_minor": 2
}
